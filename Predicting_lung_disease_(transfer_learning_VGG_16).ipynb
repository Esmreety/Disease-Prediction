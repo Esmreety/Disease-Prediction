{
  "nbformat": 4,
  "nbformat_minor": 0,
  "metadata": {
    "colab": {
      "name": "Predicting lung disease (transfer learning VGG 16).ipynb",
      "provenance": [],
      "mount_file_id": "1UC9pzBQhh8DHvnb9afdjjo5onhYAJjt8",
      "authorship_tag": "ABX9TyPCd5k0FO2Iv8+xLpfqTl2I",
      "include_colab_link": true
    },
    "kernelspec": {
      "name": "python3",
      "display_name": "Python 3"
    },
    "accelerator": "GPU"
  },
  "cells": [
    {
      "cell_type": "markdown",
      "metadata": {
        "id": "view-in-github",
        "colab_type": "text"
      },
      "source": [
        "<a href=\"https://colab.research.google.com/github/Esmreety/Disease-Prediction/blob/master/Predicting_lung_disease_(transfer_learning_VGG_16).ipynb\" target=\"_parent\"><img src=\"https://colab.research.google.com/assets/colab-badge.svg\" alt=\"Open In Colab\"/></a>"
      ]
    },
    {
      "cell_type": "code",
      "metadata": {
        "id": "zUvb5Lwt0eWW",
        "colab_type": "code",
        "colab": {}
      },
      "source": [
        "import os\n",
        "import matplotlib.pyplot as plt\n",
        "import numpy as np\n",
        "import tensorflow as tf\n",
        "from tensorflow import keras\n",
        "from keras import  layers, Model\n",
        "from keras.applications.vgg16 import VGG16\n",
        "from keras.preprocessing.image import ImageDataGenerator\n",
        "from keras.models import Sequential\n",
        "from keras.layers import Conv2D, MaxPooling2D, Flatten, Dense, Dropout\n",
        "from keras import backend as k\n",
        "from keras.preprocessing import image\n",
        "\n",
        "\n"
      ],
      "execution_count": 8,
      "outputs": []
    },
    {
      "cell_type": "code",
      "metadata": {
        "id": "NrvDq-3r0eno",
        "colab_type": "code",
        "colab": {}
      },
      "source": [
        "\n",
        "train_path = '/content/chest_xray/train'\n",
        "valid_path = '/content/chest_xray/val'\n",
        "vgg = VGG16(input_shape =(224, 224, 3),\n",
        "                          include_top = False,\n",
        "                          weights = 'imagenet')\n",
        "for layer in vgg.layers:\n",
        "  layer.trainable = False \n"
      ],
      "execution_count": 9,
      "outputs": []
    },
    {
      "cell_type": "code",
      "metadata": {
        "id": "BdmDYp2R0fod",
        "colab_type": "code",
        "colab": {
          "base_uri": "https://localhost:8080/",
          "height": 885
        },
        "outputId": "64e5a94c-01cb-41dc-db83-7b7a0da9d169"
      },
      "source": [
        "x = Flatten()(vgg.output)\n",
        "prediction = Dense(2,activation = 'softmax')(x)\n",
        "#create a model object\n",
        "model = Model(inputs = vgg.input, outputs = prediction)\n",
        "model.summary()"
      ],
      "execution_count": 10,
      "outputs": [
        {
          "output_type": "stream",
          "text": [
            "Model: \"model_1\"\n",
            "_________________________________________________________________\n",
            "Layer (type)                 Output Shape              Param #   \n",
            "=================================================================\n",
            "input_2 (InputLayer)         (None, 224, 224, 3)       0         \n",
            "_________________________________________________________________\n",
            "block1_conv1 (Conv2D)        (None, 224, 224, 64)      1792      \n",
            "_________________________________________________________________\n",
            "block1_conv2 (Conv2D)        (None, 224, 224, 64)      36928     \n",
            "_________________________________________________________________\n",
            "block1_pool (MaxPooling2D)   (None, 112, 112, 64)      0         \n",
            "_________________________________________________________________\n",
            "block2_conv1 (Conv2D)        (None, 112, 112, 128)     73856     \n",
            "_________________________________________________________________\n",
            "block2_conv2 (Conv2D)        (None, 112, 112, 128)     147584    \n",
            "_________________________________________________________________\n",
            "block2_pool (MaxPooling2D)   (None, 56, 56, 128)       0         \n",
            "_________________________________________________________________\n",
            "block3_conv1 (Conv2D)        (None, 56, 56, 256)       295168    \n",
            "_________________________________________________________________\n",
            "block3_conv2 (Conv2D)        (None, 56, 56, 256)       590080    \n",
            "_________________________________________________________________\n",
            "block3_conv3 (Conv2D)        (None, 56, 56, 256)       590080    \n",
            "_________________________________________________________________\n",
            "block3_pool (MaxPooling2D)   (None, 28, 28, 256)       0         \n",
            "_________________________________________________________________\n",
            "block4_conv1 (Conv2D)        (None, 28, 28, 512)       1180160   \n",
            "_________________________________________________________________\n",
            "block4_conv2 (Conv2D)        (None, 28, 28, 512)       2359808   \n",
            "_________________________________________________________________\n",
            "block4_conv3 (Conv2D)        (None, 28, 28, 512)       2359808   \n",
            "_________________________________________________________________\n",
            "block4_pool (MaxPooling2D)   (None, 14, 14, 512)       0         \n",
            "_________________________________________________________________\n",
            "block5_conv1 (Conv2D)        (None, 14, 14, 512)       2359808   \n",
            "_________________________________________________________________\n",
            "block5_conv2 (Conv2D)        (None, 14, 14, 512)       2359808   \n",
            "_________________________________________________________________\n",
            "block5_conv3 (Conv2D)        (None, 14, 14, 512)       2359808   \n",
            "_________________________________________________________________\n",
            "block5_pool (MaxPooling2D)   (None, 7, 7, 512)         0         \n",
            "_________________________________________________________________\n",
            "flatten_2 (Flatten)          (None, 25088)             0         \n",
            "_________________________________________________________________\n",
            "dense_2 (Dense)              (None, 2)                 50178     \n",
            "=================================================================\n",
            "Total params: 14,764,866\n",
            "Trainable params: 50,178\n",
            "Non-trainable params: 14,714,688\n",
            "_________________________________________________________________\n"
          ],
          "name": "stdout"
        }
      ]
    },
    {
      "cell_type": "code",
      "metadata": {
        "id": "7ocKbm5a0flp",
        "colab_type": "code",
        "colab": {}
      },
      "source": [
        "model.compile(loss = 'categorical_crossentropy',\n",
        "              optimizer = 'adam',\n",
        "              metrics = ['accuracy'])"
      ],
      "execution_count": 11,
      "outputs": []
    },
    {
      "cell_type": "code",
      "metadata": {
        "id": "x6jjP7cT0fh3",
        "colab_type": "code",
        "colab": {}
      },
      "source": [
        "train_datagen = ImageDataGenerator(\n",
        "                     rescale = 1.0/255.,\n",
        "                     rotation_range = 40, \n",
        "                     width_shift_range = 0.2,\n",
        "                     height_shift_range = 0.2,\n",
        "                     shear_range = 0.2,\n",
        "                     zoom_range = 0.2,\n",
        "                     horizontal_flip = True,\n",
        "                     fill_mode = 'nearest')\n",
        "                    \n",
        "              \n",
        "test_datagen = ImageDataGenerator(rescale = 1.0/255.)"
      ],
      "execution_count": 12,
      "outputs": []
    },
    {
      "cell_type": "code",
      "metadata": {
        "id": "tkvVkvbV0far",
        "colab_type": "code",
        "colab": {
          "base_uri": "https://localhost:8080/",
          "height": 52
        },
        "outputId": "b41cf059-02c7-4e5f-a1b2-078898a74a79"
      },
      "source": [
        "train_generator = train_datagen.flow_from_directory(\n",
        "                              train_path,\n",
        "                              target_size = (224,224),\n",
        "                              batch_size = 32,\n",
        "                                class_mode = 'categorical')\n",
        "validation_generator = test_datagen.flow_from_directory(\n",
        "                                valid_path,\n",
        "                                target_size = (224,224),\n",
        "                                batch_size = 32,\n",
        "                                class_mode = 'categorical')"
      ],
      "execution_count": 15,
      "outputs": [
        {
          "output_type": "stream",
          "text": [
            "Found 5216 images belonging to 2 classes.\n",
            "Found 16 images belonging to 2 classes.\n"
          ],
          "name": "stdout"
        }
      ]
    },
    {
      "cell_type": "code",
      "metadata": {
        "id": "KlBYH2M10fXb",
        "colab_type": "code",
        "colab": {
          "base_uri": "https://localhost:8080/",
          "height": 191
        },
        "outputId": "5af28466-af97-4098-932a-269ea965ce43"
      },
      "source": [
        "history = model.fit_generator(\n",
        "    train_generator,\n",
        "    steps_per_epoch = len(train_generator),\n",
        "    validation_data = validation_generator,\n",
        "    epochs = 5,\n",
        "    validation_steps = len(validation_generator)) "
      ],
      "execution_count": 16,
      "outputs": [
        {
          "output_type": "stream",
          "text": [
            "Epoch 1/5\n",
            "163/163 [==============================] - 130s 797ms/step - loss: 0.2552 - accuracy: 0.8919 - val_loss: 0.2745 - val_accuracy: 0.8125\n",
            "Epoch 2/5\n",
            "163/163 [==============================] - 122s 749ms/step - loss: 0.1823 - accuracy: 0.9260 - val_loss: 0.3537 - val_accuracy: 0.7500\n",
            "Epoch 3/5\n",
            "163/163 [==============================] - 123s 756ms/step - loss: 0.1551 - accuracy: 0.9410 - val_loss: 0.3226 - val_accuracy: 0.8125\n",
            "Epoch 4/5\n",
            "163/163 [==============================] - 124s 758ms/step - loss: 0.1364 - accuracy: 0.9473 - val_loss: 0.2430 - val_accuracy: 0.8750\n",
            "Epoch 5/5\n",
            "163/163 [==============================] - 124s 758ms/step - loss: 0.1386 - accuracy: 0.9440 - val_loss: 0.5812 - val_accuracy: 0.6875\n"
          ],
          "name": "stdout"
        }
      ]
    },
    {
      "cell_type": "code",
      "metadata": {
        "id": "3jGrkdZh0fTx",
        "colab_type": "code",
        "colab": {}
      },
      "source": [
        "model.save('model_predict.hdf5')\n"
      ],
      "execution_count": 21,
      "outputs": []
    },
    {
      "cell_type": "code",
      "metadata": {
        "id": "Dono32740fQB",
        "colab_type": "code",
        "colab": {
          "base_uri": "https://localhost:8080/",
          "height": 34
        },
        "outputId": "b7c1332b-8a20-4d15-a456-acb64919ecb7"
      },
      "source": [
        "from keras.models import load_model\n",
        "from keras.applications.vgg16 import preprocess_input\n",
        "model = load_model('/content/model_predict.h5')\n",
        "img = image.load_img('/content/chest_xray/test/PNEUMONIA/person101_bacteria_483.jpeg', target_size = (224, 224))\n",
        "x = image.img_to_array(img)\n",
        "x  = np.expand_dims(x, axis = 0, )\n",
        "img_data = preprocess_input(x)\n",
        "classes = model.predict(img_data)\n",
        "print(classes)"
      ],
      "execution_count": 25,
      "outputs": [
        {
          "output_type": "stream",
          "text": [
            "[[0. 1.]]\n"
          ],
          "name": "stdout"
        }
      ]
    },
    {
      "cell_type": "code",
      "metadata": {
        "id": "xzXYF-qh0fMj",
        "colab_type": "code",
        "colab": {}
      },
      "source": [
        ""
      ],
      "execution_count": null,
      "outputs": []
    },
    {
      "cell_type": "code",
      "metadata": {
        "id": "9MCvplVC0fIT",
        "colab_type": "code",
        "colab": {}
      },
      "source": [
        ""
      ],
      "execution_count": null,
      "outputs": []
    },
    {
      "cell_type": "code",
      "metadata": {
        "id": "DBJfp1ko0fDf",
        "colab_type": "code",
        "colab": {}
      },
      "source": [
        ""
      ],
      "execution_count": null,
      "outputs": []
    },
    {
      "cell_type": "code",
      "metadata": {
        "id": "5sGpwKU50e6F",
        "colab_type": "code",
        "colab": {}
      },
      "source": [
        ""
      ],
      "execution_count": null,
      "outputs": []
    }
  ]
}