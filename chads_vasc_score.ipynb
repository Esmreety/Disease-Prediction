{
  "nbformat": 4,
  "nbformat_minor": 0,
  "metadata": {
    "colab": {
      "name": "chads_vasc_score.ipynb",
      "provenance": [],
      "authorship_tag": "ABX9TyOD0zHpSVvka58Adu6EcEZl"
    },
    "kernelspec": {
      "name": "python3",
      "display_name": "Python 3"
    }
  },
  "cells": [
    {
      "cell_type": "code",
      "metadata": {
        "id": "Kf0oHRCG76kc",
        "colab_type": "code",
        "colab": {}
      },
      "source": [
        "def chads_vasc_score(input_c, input_h, input_a2, input_d, input_s2, input_v, input_a, input_sc):\n",
        "    # congestive heart failure\n",
        "    val_c = 1 \n",
        "    \n",
        "    # Value for hypertension\n",
        "    val_h = 1 \n",
        "    \n",
        "    # Value for Age >= 75 years\n",
        "    val_a2 = 2\n",
        "    \n",
        "    # Value for diabetes mellitus\n",
        "    val_d = 1\n",
        "    \n",
        "    # Value for stroke\n",
        "    val_s2 = 2\n",
        "    \n",
        "    # Value for vascular disease\n",
        "    val_v = 1\n",
        "    \n",
        "    # Value for age 65 to 74 years\n",
        "    val_a = 1\n",
        "    \n",
        "    # Value for female\n",
        "    val_sc = 1\n",
        "    \n",
        "    # Calculate the risk score\n",
        "    risk_score = (input_c * val_c) +\\\n",
        "                 (input_h * val_h) +\\\n",
        "                 (input_a2 * val_a2) +\\\n",
        "                 (input_d * val_d) +\\\n",
        "                 (input_s2 * val_s2) +\\\n",
        "                 (input_v * val_v) +\\\n",
        "                 (input_a * val_a) +\\\n",
        "                 (input_sc * val_sc)\n",
        "    \n",
        "    return risk_score"
      ],
      "execution_count": 1,
      "outputs": []
    },
    {
      "cell_type": "markdown",
      "metadata": {
        "id": "uCazvUAp9Owu",
        "colab_type": "text"
      },
      "source": [
        "The chads-vasc score for a patient who has the following attributes:\n",
        "\n",
        "    Congestive heart failure? No\n",
        "    Hypertension: yes\n",
        "    Age 75 or older: no\n",
        "    Diabetes mellitus: no\n",
        "    Stroke: no\n",
        "    Vascular disease: yes\n",
        "    Age 65 to 74: no\n",
        "    Female? : yes\n"
      ]
    },
    {
      "cell_type": "code",
      "metadata": {
        "id": "HmdiuRb085Gh",
        "colab_type": "code",
        "colab": {
          "base_uri": "https://localhost:8080/",
          "height": 34
        },
        "outputId": "8746b85a-c239-40f8-b2c6-b543555136c1"
      },
      "source": [
        "tmp_c = 0\n",
        "tmp_h = 1\n",
        "tmp_a2 = 0\n",
        "tmp_d = 0\n",
        "tmp_s2 = 0\n",
        "tmp_v = 1\n",
        "tmp_a = 0\n",
        "tmp_sc = 1\n",
        "\n",
        "print(f\"The chads-vasc score for this patient is\",\n",
        "      f\"{chads_vasc_score(tmp_c, tmp_h, tmp_a2, tmp_d, tmp_s2, tmp_v, tmp_a, tmp_sc)}\")"
      ],
      "execution_count": 2,
      "outputs": [
        {
          "output_type": "stream",
          "text": [
            "The chads-vasc score for this patient is 3\n"
          ],
          "name": "stdout"
        }
      ]
    },
    {
      "cell_type": "code",
      "metadata": {
        "id": "8d4JlJZi9ZX7",
        "colab_type": "code",
        "colab": {}
      },
      "source": [
        ""
      ],
      "execution_count": null,
      "outputs": []
    }
  ]
}